{
 "cells": [
  {
   "cell_type": "markdown",
   "metadata": {},
   "source": [
    "# Regressão Linear com Bootstrap\n",
    "Esse notebook tem como objetivo avaliar a relação entre a medida da cintura e do pescoço através de um modelo de regressão linear, com o propósito de demonstrar se a crença de que, colocando a calça ao redor do pescoço, ela serve."
   ]
  },
  {
   "cell_type": "code",
   "execution_count": null,
   "metadata": {},
   "outputs": [],
   "source": [
    "# Importando bibliotecas\n",
    "import numpy as np\n",
    "import pandas as pd\n",
    "import matplotlib.pyplot as plt\n",
    "import seaborn as sns\n",
    "from sklearn.linear_model import LinearRegression\n",
    "from sklearn.utils import resample\n",
    "\n",
    "# Reprodutibilidade\n",
    "np.random.seed(123)"
   ]
  },
  {
   "cell_type": "code",
   "execution_count": null,
   "metadata": {},
   "outputs": [],
   "source": [
    "# Dados amostrais\n",
    "ds = pd.read_csv(\"data.csv\")\n",
    "pescoco = ds[\"Pescoço\"]\n",
    "cintura = ds[\"Cintura\"]\n",
    "dados = pd.DataFrame({'pescoco': pescoco, 'cintura': cintura})"
   ]
  },
  {
   "cell_type": "code",
   "execution_count": null,
   "metadata": {},
   "outputs": [],
   "source": [
    "# Gráfico de dispersão\n",
    "sns.scatterplot(x='pescoco', y='cintura', data=dados, color='blue')\n",
    "modelo = LinearRegression()\n",
    "modelo.fit(dados[['pescoco']], dados['cintura'])\n",
    "\n",
    "# Previsões para a reta\n",
    "x_vals = np.linspace(dados['pescoco'].min(), dados['pescoco'].max(), 100).reshape(-1, 1)\n",
    "y_preds = modelo.predict(x_vals)\n",
    "plt.plot(x_vals, y_preds, color='red', linewidth=2)\n",
    "plt.title(\"Dispersão: Cintura vs Pescoço\")\n",
    "plt.xlabel(\"pescoco\")\n",
    "plt.ylabel(\"cintura\")\n",
    "plt.grid(True)\n",
    "plt.show()"
   ]
  },
  {
   "cell_type": "code",
   "execution_count": null,
   "metadata": {},
   "outputs": [],
   "source": [
    "# Coeficientes da regressão\n",
    "print(f\"Intercepto: {modelo.intercept_:.2f}, Inclinação (beta1): {modelo.coef_[0]:.2f}\")"
   ]
  },
  {
   "cell_type": "code",
   "execution_count": null,
   "metadata": {},
   "outputs": [],
   "source": [
    "# Bootstrap: 1000 reamostragens para IC\n",
    "B = 5000\n",
    "interceptos = np.zeros(B)\n",
    "inclinacoes = np.zeros(B)\n",
    "\n",
    "for i in range(B):\n",
    "    amostra = resample(dados, replace=True)\n",
    "    modelo_boot = LinearRegression().fit(amostra[['pescoco']], amostra['cintura'])\n",
    "    interceptos[i] = modelo_boot.intercept_\n",
    "    inclinacoes[i] = modelo_boot.coef_[0]"
   ]
  },
  {
   "cell_type": "code",
   "execution_count": null,
   "metadata": {},
   "outputs": [],
   "source": [
    "# Intervalo de Confiança (percentis)\n",
    "IC_intercepto = np.percentile(interceptos, [2.5, 97.5])\n",
    "IC_inclinacao = np.percentile(inclinacoes, [2.5, 97.5])\n",
    "print(f\"IC Intercepto: {IC_intercepto}\")\n",
    "print(f\"IC Inclinação (beta1): {IC_inclinacao}\")"
   ]
  },
  {
   "cell_type": "code",
   "execution_count": null,
   "metadata": {},
   "outputs": [],
   "source": [
    "# Histograma do bootstrap da inclinação (beta1)\n",
    "plt.figure(figsize=(8, 5))\n",
    "sns.histplot(inclinacoes, bins=20, kde=False, color=\"skyblue\", edgecolor=\"black\")\n",
    "plt.axvline(IC_inclinacao[0], color='red', linestyle='--', label='IC 2.5%')\n",
    "plt.axvline(IC_inclinacao[1], color='red', linestyle='--', label='IC 97.5%')\n",
    "plt.title(\"Bootstrap de β₁\")\n",
    "plt.xlabel(\"β₁\")\n",
    "plt.ylabel(\"Frequência\")\n",
    "plt.legend()\n",
    "plt.grid(True)\n",
    "plt.tight_layout()\n",
    "plt.show()"
   ]
  }
 ],
 "metadata": {
  "kernelspec": {
   "display_name": "Python 3",
   "language": "python",
   "name": "python3"
  },
  "language_info": {
   "name": "python",
   "version": "3.8"
  }
 },
 "nbformat": 4,
 "nbformat_minor": 5
}
